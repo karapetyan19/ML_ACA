{
 "cells": [
  {
   "cell_type": "markdown",
   "metadata": {
    "id": "R7OF1QQw6FKA"
   },
   "source": [
    "#### Import արեք pandas գրադարանը pd  անունով"
   ]
  },
  {
   "cell_type": "code",
   "execution_count": null,
   "metadata": {
    "id": "bpPXYiig6FKP"
   },
   "outputs": [],
   "source": [
    "import pandas as pd"
   ]
  },
  {
   "cell_type": "markdown",
   "metadata": {
    "id": "HWxZktxI6FKT"
   },
   "source": [
    "### Import the dataset baby_names.txt, assign it to a variable called baby_names\n",
    "\n",
    "### Import արեք baby_names.txt dataset-ը ու այն վերագրեք baby_names փոփոխականի"
   ]
  },
  {
   "cell_type": "code",
   "execution_count": 18,
   "metadata": {
    "id": "qQ7DxlBA6FKV"
   },
   "outputs": [],
   "source": [
    "baby_names = pd.read_csv('/content/baby_names.csv')"
   ]
  },
  {
   "cell_type": "markdown",
   "metadata": {
    "id": "vzwrbBbj6FKY"
   },
   "source": [
    "### See the first 10 entries.\n",
    "\n",
    "### Տպեք առաջին 10 արժեքը"
   ]
  },
  {
   "cell_type": "code",
   "execution_count": 19,
   "metadata": {
    "colab": {
     "base_uri": "https://localhost:8080/",
     "height": 363
    },
    "id": "yPdgAq0l6FKa",
    "outputId": "2367d595-c722-4547-ab28-11797dbe0d05"
   },
   "outputs": [
    {
     "data": {
      "text/html": [
       "<div>\n",
       "<style scoped>\n",
       "    .dataframe tbody tr th:only-of-type {\n",
       "        vertical-align: middle;\n",
       "    }\n",
       "\n",
       "    .dataframe tbody tr th {\n",
       "        vertical-align: top;\n",
       "    }\n",
       "\n",
       "    .dataframe thead th {\n",
       "        text-align: right;\n",
       "    }\n",
       "</style>\n",
       "<table border=\"1\" class=\"dataframe\">\n",
       "  <thead>\n",
       "    <tr style=\"text-align: right;\">\n",
       "      <th></th>\n",
       "      <th>Unnamed: 0</th>\n",
       "      <th>Id</th>\n",
       "      <th>Name</th>\n",
       "      <th>Year</th>\n",
       "      <th>Gender</th>\n",
       "      <th>State</th>\n",
       "      <th>Count</th>\n",
       "    </tr>\n",
       "  </thead>\n",
       "  <tbody>\n",
       "    <tr>\n",
       "      <th>0</th>\n",
       "      <td>11349</td>\n",
       "      <td>11350</td>\n",
       "      <td>Emma</td>\n",
       "      <td>2004</td>\n",
       "      <td>F</td>\n",
       "      <td>AK</td>\n",
       "      <td>62</td>\n",
       "    </tr>\n",
       "    <tr>\n",
       "      <th>1</th>\n",
       "      <td>11350</td>\n",
       "      <td>11351</td>\n",
       "      <td>Madison</td>\n",
       "      <td>2004</td>\n",
       "      <td>F</td>\n",
       "      <td>AK</td>\n",
       "      <td>48</td>\n",
       "    </tr>\n",
       "    <tr>\n",
       "      <th>2</th>\n",
       "      <td>11351</td>\n",
       "      <td>11352</td>\n",
       "      <td>Hannah</td>\n",
       "      <td>2004</td>\n",
       "      <td>F</td>\n",
       "      <td>AK</td>\n",
       "      <td>46</td>\n",
       "    </tr>\n",
       "    <tr>\n",
       "      <th>3</th>\n",
       "      <td>11352</td>\n",
       "      <td>11353</td>\n",
       "      <td>Grace</td>\n",
       "      <td>2004</td>\n",
       "      <td>F</td>\n",
       "      <td>AK</td>\n",
       "      <td>44</td>\n",
       "    </tr>\n",
       "    <tr>\n",
       "      <th>4</th>\n",
       "      <td>11353</td>\n",
       "      <td>11354</td>\n",
       "      <td>Emily</td>\n",
       "      <td>2004</td>\n",
       "      <td>F</td>\n",
       "      <td>AK</td>\n",
       "      <td>41</td>\n",
       "    </tr>\n",
       "    <tr>\n",
       "      <th>5</th>\n",
       "      <td>11354</td>\n",
       "      <td>11355</td>\n",
       "      <td>Abigail</td>\n",
       "      <td>2004</td>\n",
       "      <td>F</td>\n",
       "      <td>AK</td>\n",
       "      <td>37</td>\n",
       "    </tr>\n",
       "    <tr>\n",
       "      <th>6</th>\n",
       "      <td>11355</td>\n",
       "      <td>11356</td>\n",
       "      <td>Olivia</td>\n",
       "      <td>2004</td>\n",
       "      <td>F</td>\n",
       "      <td>AK</td>\n",
       "      <td>33</td>\n",
       "    </tr>\n",
       "    <tr>\n",
       "      <th>7</th>\n",
       "      <td>11356</td>\n",
       "      <td>11357</td>\n",
       "      <td>Isabella</td>\n",
       "      <td>2004</td>\n",
       "      <td>F</td>\n",
       "      <td>AK</td>\n",
       "      <td>30</td>\n",
       "    </tr>\n",
       "    <tr>\n",
       "      <th>8</th>\n",
       "      <td>11357</td>\n",
       "      <td>11358</td>\n",
       "      <td>Alyssa</td>\n",
       "      <td>2004</td>\n",
       "      <td>F</td>\n",
       "      <td>AK</td>\n",
       "      <td>29</td>\n",
       "    </tr>\n",
       "    <tr>\n",
       "      <th>9</th>\n",
       "      <td>11358</td>\n",
       "      <td>11359</td>\n",
       "      <td>Sophia</td>\n",
       "      <td>2004</td>\n",
       "      <td>F</td>\n",
       "      <td>AK</td>\n",
       "      <td>28</td>\n",
       "    </tr>\n",
       "  </tbody>\n",
       "</table>\n",
       "</div>"
      ],
      "text/plain": [
       "   Unnamed: 0     Id      Name  Year Gender State  Count\n",
       "0       11349  11350      Emma  2004      F    AK     62\n",
       "1       11350  11351   Madison  2004      F    AK     48\n",
       "2       11351  11352    Hannah  2004      F    AK     46\n",
       "3       11352  11353     Grace  2004      F    AK     44\n",
       "4       11353  11354     Emily  2004      F    AK     41\n",
       "5       11354  11355   Abigail  2004      F    AK     37\n",
       "6       11355  11356    Olivia  2004      F    AK     33\n",
       "7       11356  11357  Isabella  2004      F    AK     30\n",
       "8       11357  11358    Alyssa  2004      F    AK     29\n",
       "9       11358  11359    Sophia  2004      F    AK     28"
      ]
     },
     "execution_count": 19,
     "metadata": {},
     "output_type": "execute_result"
    }
   ],
   "source": [
    "baby_names.head(10)"
   ]
  },
  {
   "cell_type": "markdown",
   "metadata": {
    "id": "mVS21o5d6FKb"
   },
   "source": [
    "### Delete the columns 'Unnamed: 0' and 'Id'\n",
    "\n",
    "### Ջնջեք 'Unnamed: 0' ու 'Id' սյուները"
   ]
  },
  {
   "cell_type": "code",
   "execution_count": 22,
   "metadata": {
    "id": "sZslkJhg6FKc"
   },
   "outputs": [],
   "source": [
    "del baby_names[\"Id\"]\n",
    "del baby_names['Unnamed: 0']"
   ]
  },
  {
   "cell_type": "markdown",
   "metadata": {
    "id": "QR0KnQic6FKd"
   },
   "source": [
    "### Are there more male or female names in the dataset?\n",
    "\n",
    "### Արդյոք dataset-ում ավելի շատ են կանացի թե տղամարդու անունները?"
   ]
  },
  {
   "cell_type": "code",
   "execution_count": 29,
   "metadata": {
    "colab": {
     "base_uri": "https://localhost:8080/"
    },
    "id": "mJJeBgWq6FKe",
    "outputId": "bb0a8706-127e-4b31-ec5c-e85e18cebc0b"
   },
   "outputs": [
    {
     "name": "stdout",
     "output_type": "stream",
     "text": [
      "women --- 2404  men --- 99\n"
     ]
    }
   ],
   "source": [
    "women = baby_names[baby_names[\"Gender\"] == \"F\"]\n",
    "men = baby_names[baby_names[\"Gender\"] == \"M\"]\n",
    "print(\"women ---\", len(women),  \" men ---\", len(men))"
   ]
  },
  {
   "cell_type": "markdown",
   "metadata": {
    "id": "umeSHXHB6FKf"
   },
   "source": [
    "### Delete the column 'Year'. Group the dataset by name and assign to names.\n",
    "\n",
    "### Ջնջեք 'Year' սյունը. Խմբավորեք dataset-ը ըստ անունի ու վերագրեք արդյունքը names փոփոխականին"
   ]
  },
  {
   "cell_type": "code",
   "execution_count": 44,
   "metadata": {
    "id": "5y7-pfof6FKg"
   },
   "outputs": [],
   "source": [
    "#del baby_names[\"Year\"]\n",
    "names = baby_names.groupby('Name')\n"
   ]
  },
  {
   "cell_type": "markdown",
   "metadata": {
    "id": "4ChNmxdc6FKh"
   },
   "source": [
    "### How many different names exist in the dataset?\n",
    "\n",
    "### Քանի հատ տարբեր անուն կա dataset-ում?"
   ]
  },
  {
   "cell_type": "code",
   "execution_count": 56,
   "metadata": {
    "colab": {
     "base_uri": "https://localhost:8080/"
    },
    "id": "XzFQDGzk6FKi",
    "outputId": "bb6734bc-a855-4fb4-cd79-7b6d5d658747"
   },
   "outputs": [
    {
     "data": {
      "text/plain": [
       "575"
      ]
     },
     "execution_count": 56,
     "metadata": {},
     "output_type": "execute_result"
    }
   ],
   "source": [
    "len(names)\n",
    "# or \n",
    "baby_names[\"Name\"].nunique()"
   ]
  },
  {
   "cell_type": "markdown",
   "metadata": {
    "id": "jCNsd0Eu6FKj"
   },
   "source": [
    "### What is the name with most occurrences?\n",
    "\n",
    "### Որն է ամենաշատ հանդիպող անունը?"
   ]
  },
  {
   "cell_type": "code",
   "execution_count": 79,
   "metadata": {
    "colab": {
     "base_uri": "https://localhost:8080/"
    },
    "id": "PxEYhMEe6FKj",
    "outputId": "71f0cee8-d84f-4624-cf88-7820ff017e7b"
   },
   "outputs": [
    {
     "data": {
      "text/plain": [
       "Gender     M\n",
       "State     AK\n",
       "Count     65\n",
       "Name: Ethan, dtype: object"
      ]
     },
     "execution_count": 79,
     "metadata": {},
     "output_type": "execute_result"
    }
   ],
   "source": [
    "df = names.agg(lambda x:x.value_counts().index[0])\n",
    "df = df.sort_values(\"Count\",ascending=False)\n",
    "df.iloc[0]\n"
   ]
  },
  {
   "cell_type": "markdown",
   "metadata": {
    "id": "WzyBdTq66FKk"
   },
   "source": [
    "### What is the median name occurrence?\n",
    "\n",
    "### Որն է անունների հանդիպման մեդիանը՞ "
   ]
  },
  {
   "cell_type": "code",
   "execution_count": 80,
   "metadata": {
    "colab": {
     "base_uri": "https://localhost:8080/"
    },
    "id": "7a9fkxLT6FKl",
    "outputId": "131b5468-988c-499a-f574-8240088f9964"
   },
   "outputs": [
    {
     "data": {
      "text/plain": [
       "Count    7.0\n",
       "dtype: float64"
      ]
     },
     "execution_count": 80,
     "metadata": {},
     "output_type": "execute_result"
    }
   ],
   "source": [
    "df.median()"
   ]
  },
  {
   "cell_type": "markdown",
   "metadata": {
    "id": "HBrt-08D6FKm"
   },
   "source": [
    "### Get a summary with the mean, min, max, std and quartiles.\n",
    "\n",
    "### Ստացեք dataset-ի ամփոփում mean, min, max, std ու quartile-ներով"
   ]
  },
  {
   "cell_type": "code",
   "execution_count": null,
   "metadata": {
    "id": "fgUiU-mB6FKp"
   },
   "outputs": [],
   "source": [
    "# TODO"
   ]
  }
 ],
 "metadata": {
  "colab": {
   "name": "Pandas_Homework.ipynb",
   "provenance": []
  },
  "kernelspec": {
   "display_name": "Python 3 (ipykernel)",
   "language": "python",
   "name": "python3"
  },
  "language_info": {
   "codemirror_mode": {
    "name": "ipython",
    "version": 3
   },
   "file_extension": ".py",
   "mimetype": "text/x-python",
   "name": "python",
   "nbconvert_exporter": "python",
   "pygments_lexer": "ipython3",
   "version": "3.9.7"
  }
 },
 "nbformat": 4,
 "nbformat_minor": 1
}
