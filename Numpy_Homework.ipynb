{
 "cells": [
  {
   "cell_type": "markdown",
   "metadata": {
    "id": "4gkfpEu1kZmL"
   },
   "source": [
    "#### 1. Create a 3x5 numpy array filled with random numbers from 1 to 10.\n",
    "\n",
    "#### 1. Ստեղծեք 1-ից 10 պատահական թվերով լցված (3, 5) չափերով numpy array։"
   ]
  },
  {
   "cell_type": "code",
   "execution_count": 1,
   "metadata": {
    "colab": {
     "base_uri": "https://localhost:8080/"
    },
    "id": "YJpB4BvUkZma",
    "outputId": "0798efc7-b96c-4891-8409-7b01339efc6a"
   },
   "outputs": [
    {
     "data": {
      "text/plain": [
       "array([[4, 3, 4, 8, 3],\n",
       "       [6, 6, 6, 8, 5],\n",
       "       [9, 1, 3, 9, 6]])"
      ]
     },
     "execution_count": 1,
     "metadata": {},
     "output_type": "execute_result"
    }
   ],
   "source": [
    "import numpy as np\n",
    "\n",
    "np.random.randint(1, 10, size=15).reshape(3,5)\n"
   ]
  },
  {
   "cell_type": "markdown",
   "metadata": {
    "id": "wpr_PZ0mkZmf"
   },
   "source": [
    "#### 2. Create a numpy array of size 10 filled with 0s and replace its 5th value with a 3.\n",
    "\n",
    "#### 2. Ստեղծեք 10 չափի 0-ներով լցված numpy array ու փոխարինեք դրա 5-րդ արժեքը 3 թվով։"
   ]
  },
  {
   "cell_type": "code",
   "execution_count": 2,
   "metadata": {
    "colab": {
     "base_uri": "https://localhost:8080/"
    },
    "id": "i3x3lfa4kZmg",
    "outputId": "6b00cf02-ed47-4d88-c357-f7971ebff5e6"
   },
   "outputs": [
    {
     "data": {
      "text/plain": [
       "array([0, 0, 0, 0, 3, 0, 0, 0, 0, 0])"
      ]
     },
     "execution_count": 2,
     "metadata": {},
     "output_type": "execute_result"
    }
   ],
   "source": [
    "a = np.zeros(10, dtype=int)\n",
    "a[4] = 3\n",
    "a\n"
   ]
  },
  {
   "cell_type": "markdown",
   "metadata": {
    "id": "8PI1uVA2kZmg"
   },
   "source": [
    "#### 3. Create a numpy array filled with numbers from 3 to 15 i.e. ([3, 4 … 13, 14])\n",
    "\n",
    "#### 3. Ստեղծեք 3-ից 15 թվերից բաղկացած numpy array ([3, 4 … 13, 14])"
   ]
  },
  {
   "cell_type": "code",
   "execution_count": 3,
   "metadata": {
    "colab": {
     "base_uri": "https://localhost:8080/"
    },
    "id": "pOBzeb5IkZmh",
    "outputId": "bb984634-2271-4ffc-ff14-556218e025ad"
   },
   "outputs": [
    {
     "data": {
      "text/plain": [
       "array([ 9,  9,  4, ...,  3,  4, 13])"
      ]
     },
     "execution_count": 3,
     "metadata": {},
     "output_type": "execute_result"
    }
   ],
   "source": [
    "np.random.randint(3, 15, size=100000)\n"
   ]
  },
  {
   "cell_type": "markdown",
   "metadata": {
    "id": "vesKmuhYkZmi"
   },
   "source": [
    "#### 4. Reshape a numpy array of size 6x0 [1, 3, 5, 2, 4, 5] into an array of size 3x2 and then 2x3 without changing the original numpy array.  \n",
    "\n",
    "#### 4. Վերածեք 6x0 [1, 3, 5, 2, 4, 5] numpy array-ը սկզբում 3x2 այնուհետև 2x3 numpy array-ների առանց սկզբնական numpy array-ը փոփոխելու։"
   ]
  },
  {
   "cell_type": "code",
   "execution_count": 4,
   "metadata": {
    "colab": {
     "base_uri": "https://localhost:8080/"
    },
    "id": "OB6ilSVqkZmj",
    "outputId": "4e078c69-53c9-42ed-f1dc-aa69d42065a1"
   },
   "outputs": [
    {
     "name": "stdout",
     "output_type": "stream",
     "text": [
      "Reshape 3x2:\n",
      " [[1 3]\n",
      " [5 2]\n",
      " [4 5]]\n",
      "Reshape 2x3:\n",
      " [[1 3 5]\n",
      " [2 4 5]]\n"
     ]
    }
   ],
   "source": [
    "\n",
    "x = np.array([1, 3, 5, 2, 4, 5])\n",
    "print(\"Reshape 3x2:\\n\", np.reshape(x,(3,2)))\n",
    "print(\"Reshape 2x3:\\n\", np.reshape(x,(2,3)))\n"
   ]
  },
  {
   "cell_type": "markdown",
   "metadata": {
    "id": "-wOq74dKkZmk"
   },
   "source": [
    "#### 5. Write a function which gets a numpy array as an input and divides all of the array values by 2 over and over again, until the mean of the array numbers is <=5. Then, once the mean of the array numbers is <=5, the funtion returns the modified numpy array.\n",
    "\n",
    "#### 5. Գրեք ֆունկցիա, որը ստանում է numpy array ու բաժանում է դրա բոլոր արժեքները 2-ի այնքան ժամանակ մինչև որ դրանց միջին արժեքը լինի <=5։ Այնուհետև, հենց միջին արժեքը դառնում է <=5, ֆունկցիան վերադարձնում է փոփոխված numpy array-ը։"
   ]
  },
  {
   "cell_type": "code",
   "execution_count": 5,
   "metadata": {
    "colab": {
     "base_uri": "https://localhost:8080/"
    },
    "id": "G_1Jd8pAkZml",
    "outputId": "01e6faa7-73b4-428c-e601-504ef408883c"
   },
   "outputs": [
    {
     "name": "stdout",
     "output_type": "stream",
     "text": [
      "[10 11 12 13 14 15 16 17 18 19 20]\n",
      "mean of original: 15.0\n",
      "[2.5  2.75 3.   3.25 3.5  3.75 4.   4.25 4.5  4.75 5.  ]\n",
      "mean of reduced: 3.75\n"
     ]
    }
   ],
   "source": [
    "def meanLessEqual5(array: np.ndarray) -> np.ndarray:\n",
    "    assert(type(array) is np.ndarray)\n",
    "    while np.mean(array)> 5:\n",
    "      array = array / 2\n",
    "    return array\n",
    "\n",
    "array = np.arange(10, 21)\n",
    "print(array)\n",
    "print('mean of original:', np.mean(array))\n",
    "print(meanLessEqual5(array))\n",
    "print('mean of reduced:', np.mean(meanLessEqual5(array)))"
   ]
  },
  {
   "cell_type": "markdown",
   "metadata": {
    "id": "q8qVgJnpkZmm"
   },
   "source": [
    "#### 6. Write a function which gets a 5x4 numpy array filled with random numbers from 1 to 10 as an input and returns 4 different numpy arrays which are the columns of the original numpy array. Write another similar function which returns 5 different numpy arrays which are rows of the original numpy array. \n",
    "\n",
    "#### 6. Գրեք ֆունկցիա, որը ստանում է 1-ից 10 պատահական թվերով լցված 5x4 numpy array ու վերադարձնում է 4 տարբեր numpy array-ներ, որոնք սկզբնական numpy array-ի սյուներն են։ Գրեք նմանատիպ ֆունկցիա, որը վերադարձնում է 5 տարբեր numpy array-ներ, որոնք սկզբնական numpy array-ի տողերն են։"
   ]
  },
  {
   "cell_type": "code",
   "execution_count": 6,
   "metadata": {
    "colab": {
     "base_uri": "https://localhost:8080/"
    },
    "id": "DZJPUhXikZmo",
    "outputId": "d42db26d-2b2b-45d0-dd4a-46a630fb7bb5"
   },
   "outputs": [
    {
     "name": "stdout",
     "output_type": "stream",
     "text": [
      "[[ 8  3  1  6]\n",
      " [ 8  7  4  5]\n",
      " [ 3 10  9  6]\n",
      " [ 9 10  3 10]\n",
      " [10  1  2  1]]\n",
      "Columns: [array([ 8,  8,  3,  9, 10]), array([ 3,  7, 10, 10,  1]), array([1, 4, 9, 3, 2]), array([ 6,  5,  6, 10,  1])]\n",
      "Rows: [array([8, 3, 1, 6]), array([8, 7, 4, 5]), array([ 3, 10,  9,  6]), array([ 9, 10,  3, 10]), array([10,  1,  2,  1])]\n"
     ]
    }
   ],
   "source": [
    "def returnColumns(array: np.ndarray) -> list:\n",
    "    assert(array.shape == (5, 4))\n",
    "    assert(type(array) is np.ndarray)\n",
    "    array = np.rot90(array, 3)\n",
    "    return [row[::-1] for row in array]\n",
    "\n",
    "def returnRows(array: np.ndarray) -> list:\n",
    "    assert(array.shape == (5, 4))\n",
    "    assert(type(array) is np.ndarray)\n",
    "    result = [row for row in array]\n",
    "    return result\n",
    "\n",
    "array = np.random.randint(1, 11, (5,4))\n",
    "print(array)\n",
    "print(\"Columns:\", returnColumns(array))\n",
    "print(\"Rows:\", returnRows(array))"
   ]
  },
  {
   "cell_type": "markdown",
   "metadata": {
    "id": "Pu1vEvpokZmo"
   },
   "source": [
    "#### 7. Multiply a 5x3 numpy array by a 3x2 numpy array containing random integer values with some fixed seed. \n",
    "\n",
    "#### 7. Ստեղծեք 5x3 ու 3x2 չափանի numpy array-ներ որոնք պարունակում են պատահական integer տիպի արժեքներ ֆիքսված seed-ով։ Գտեք առաջին և երկրորդ  array-ների արտադրյալը։ "
   ]
  },
  {
   "cell_type": "code",
   "execution_count": 7,
   "metadata": {
    "colab": {
     "base_uri": "https://localhost:8080/"
    },
    "id": "QdHpypEnkZmp",
    "outputId": "fdd56cb9-76f9-41a4-8966-6a9b392bf1f4"
   },
   "outputs": [
    {
     "data": {
      "text/plain": [
       "array([[ 77, 111],\n",
       "       [ 56,  52],\n",
       "       [ 57,  83],\n",
       "       [ 56,  54],\n",
       "       [ 78,  76]])"
      ]
     },
     "execution_count": 7,
     "metadata": {},
     "output_type": "execute_result"
    }
   ],
   "source": [
    "a = np.random.randint(1, 10, (5,3))\n",
    "b = np.random.randint(1, 10, (3,2))\n",
    "np.matmul(a, b)"
   ]
  },
  {
   "cell_type": "markdown",
   "metadata": {
    "id": "t10r_8CzkZmr"
   },
   "source": [
    "#### 8. Write a program to sort an array of integers of shape 3x3 first along the columns, the along rows and finally flatten the array so that it becomes an one dimentional array of size 9 and sort the flattened array. \n",
    "\n",
    "#### 8. Գրեք ծրագիր որը կսորտավորի ձեր ցանկացած թվերով լցված 3x3 չափանի array-ը սկզբում ըստ սյուների, հետո ըստ տողերի, ապա flatten արեք array-ը դարձնելով այն 9 արժեք պարունակող 1 չափանի array ու սորտավորեք այն։ "
   ]
  },
  {
   "cell_type": "code",
   "execution_count": 8,
   "metadata": {
    "colab": {
     "base_uri": "https://localhost:8080/"
    },
    "id": "hl97zglgkZmr",
    "outputId": "a8da6b11-1856-45de-9e50-be9c2f8c0e12"
   },
   "outputs": [
    {
     "name": "stdout",
     "output_type": "stream",
     "text": [
      "[[ 6  9 10]\n",
      " [ 6  1  1]\n",
      " [ 2  8  7]]\n",
      "[ 1  1  2  6  6  7  8  9 10]\n",
      "\n"
     ]
    }
   ],
   "source": [
    "def sortMatrix(array: np.ndarray) -> tuple:\n",
    "    assert(type(array) is np.ndarray)\n",
    "    assert(array.shape == (3, 3))\n",
    "    sorted_by_column = np.sort(array, axis=0)\n",
    "    sorted_by_rows = np.sort(sorted_by_column, axis=1)\n",
    "    result = sorted_by_rows.reshape(1,9)\n",
    "    result = np.sort(result)\n",
    "    return result \n",
    "\n",
    "np.random.seed(1)\n",
    "array = np.random.randint(1, 11, (3,3))\n",
    "print(array)\n",
    "for i in sortMatrix(array):\n",
    "    print(i, end=\"\\n\\n\")"
   ]
  },
  {
   "cell_type": "markdown",
   "metadata": {
    "id": "hjZjFLkvkZmr"
   },
   "source": [
    "#### 9. Create a 7 x 7 numpy array of zeros and then \"frame\" it with a border of ones. Your result should look like this:\n",
    "\n",
    "#### 9. Ստեղծեք 7 x 7 չափանի, 0-ներով լցված numpy array։ Ավելացրեք numpy array-ին 1-երից բաղկացած “շրջանակ”։ Վերջնական արդյունքը պետք է ունենա հետևյալ տեսքը՝"
   ]
  },
  {
   "cell_type": "markdown",
   "metadata": {
    "id": "cf79L3XBkZmt"
   },
   "source": [
    "![image.png](attachment:image.png)"
   ]
  },
  {
   "cell_type": "code",
   "execution_count": 9,
   "metadata": {
    "colab": {
     "base_uri": "https://localhost:8080/"
    },
    "id": "UGq4Hx0TkZmu",
    "outputId": "402db3b2-2ffc-4ea8-a9fe-a1ae512964f5"
   },
   "outputs": [
    {
     "name": "stdout",
     "output_type": "stream",
     "text": [
      "[[1 1 1 1 1 1 1]\n",
      " [1 0 0 0 0 0 1]\n",
      " [1 0 0 0 0 0 1]\n",
      " [1 0 0 0 0 0 1]\n",
      " [1 0 0 0 0 0 1]\n",
      " [1 0 0 0 0 0 1]\n",
      " [1 1 1 1 1 1 1]]\n"
     ]
    }
   ],
   "source": [
    "zeros_matsix = np.zeros(36, dtype=int).reshape(6,6)\n",
    "ones_matrix  = np.ones(49, dtype=int).reshape(7,7)\n",
    "ones_matrix[1:-1, 1:-1] = 0\n",
    "print(ones_matrix)"
   ]
  },
  {
   "cell_type": "markdown",
   "metadata": {
    "id": "6Jyvs22qkZmw"
   },
   "source": [
    "#### 10. Create the following numpy arrays and calculate the dot product between a and b. Transform the second array if needed.\n",
    "\n",
    "#### Ստեղծեք հետևյալ numpy array-ները ու հաշվեք a և b array-ների dot product-ը։ Transform արեք երկրորդ array-ը եթե կա դրա կարիքը։"
   ]
  },
  {
   "cell_type": "markdown",
   "metadata": {
    "id": "Za9b_nTkkZmw"
   },
   "source": [
    "$$a = \\begin{bmatrix} 1 & 3 \\\\ 3 & 13 \\\\ 0 & -1  \\end{bmatrix}$$\n",
    "\n",
    "$$b = \\begin{bmatrix} 1 & 1 \\\\ 2 & 1 \\\\ 3 & -3 \\end{bmatrix}$$"
   ]
  },
  {
   "cell_type": "code",
   "execution_count": 10,
   "metadata": {
    "colab": {
     "base_uri": "https://localhost:8080/"
    },
    "id": "jW7SLIN8kZmx",
    "outputId": "2255ed86-febd-4a43-d70a-cb8b84cffe20"
   },
   "outputs": [
    {
     "name": "stdout",
     "output_type": "stream",
     "text": [
      "[[ 1  2  3]\n",
      " [ 1  1 -3]]\n"
     ]
    },
    {
     "data": {
      "text/plain": [
       "array([[  4,   5,  -6],\n",
       "       [ 16,  19, -30],\n",
       "       [ -1,  -1,   3]])"
      ]
     },
     "execution_count": 10,
     "metadata": {},
     "output_type": "execute_result"
    }
   ],
   "source": [
    "a = np.array([[1, 3],\n",
    "              [3, 13],\n",
    "              [0, -1]])\n",
    "\n",
    "b = np.array([[1, 1],\n",
    "              [2, 1],\n",
    "              [3, -3]])\n",
    "\n",
    "\n",
    "b = np.transpose(b)\n",
    "print(b)\n",
    "np.dot(a, b)\n"
   ]
  },
  {
   "cell_type": "code",
   "execution_count": null,
   "metadata": {
    "id": "G_xfc2A63QFX"
   },
   "outputs": [],
   "source": []
  }
 ],
 "metadata": {
  "colab": {
   "name": "Numpy_Homework.ipynb",
   "provenance": []
  },
  "kernelspec": {
   "display_name": "Python 3 (ipykernel)",
   "language": "python",
   "name": "python3"
  },
  "language_info": {
   "codemirror_mode": {
    "name": "ipython",
    "version": 3
   },
   "file_extension": ".py",
   "mimetype": "text/x-python",
   "name": "python",
   "nbconvert_exporter": "python",
   "pygments_lexer": "ipython3",
   "version": "3.9.7"
  }
 },
 "nbformat": 4,
 "nbformat_minor": 1
}
